{
 "cells": [
  {
   "cell_type": "code",
   "execution_count": 2,
   "id": "a7fabfb6",
   "metadata": {
    "scrolled": true
   },
   "outputs": [
    {
     "data": {
      "text/html": [
       "<div>\n",
       "<style scoped>\n",
       "    .dataframe tbody tr th:only-of-type {\n",
       "        vertical-align: middle;\n",
       "    }\n",
       "\n",
       "    .dataframe tbody tr th {\n",
       "        vertical-align: top;\n",
       "    }\n",
       "\n",
       "    .dataframe thead th {\n",
       "        text-align: right;\n",
       "    }\n",
       "</style>\n",
       "<table border=\"1\" class=\"dataframe\">\n",
       "  <thead>\n",
       "    <tr style=\"text-align: right;\">\n",
       "      <th></th>\n",
       "      <th>Balkon_Sayisi</th>\n",
       "      <th>Binanin_Kat_Sayisi</th>\n",
       "      <th>Esya_Durumu</th>\n",
       "      <th>Banyo_Sayisi</th>\n",
       "      <th>Binanin_Yasi</th>\n",
       "      <th>Isitma_Tipi</th>\n",
       "      <th>Net_Metrekare</th>\n",
       "      <th>Oda_Sayisi</th>\n",
       "      <th>Site_Durumu</th>\n",
       "      <th>Fiyat</th>\n",
       "    </tr>\n",
       "  </thead>\n",
       "  <tbody>\n",
       "    <tr>\n",
       "      <th>0</th>\n",
       "      <td>0</td>\n",
       "      <td>3</td>\n",
       "      <td>0</td>\n",
       "      <td>1</td>\n",
       "      <td>4</td>\n",
       "      <td>5</td>\n",
       "      <td>95</td>\n",
       "      <td>4</td>\n",
       "      <td>1</td>\n",
       "      <td>1950000</td>\n",
       "    </tr>\n",
       "    <tr>\n",
       "      <th>1</th>\n",
       "      <td>3</td>\n",
       "      <td>3</td>\n",
       "      <td>0</td>\n",
       "      <td>2</td>\n",
       "      <td>0</td>\n",
       "      <td>5</td>\n",
       "      <td>140</td>\n",
       "      <td>4</td>\n",
       "      <td>1</td>\n",
       "      <td>3100000</td>\n",
       "    </tr>\n",
       "    <tr>\n",
       "      <th>2</th>\n",
       "      <td>3</td>\n",
       "      <td>2</td>\n",
       "      <td>0</td>\n",
       "      <td>2</td>\n",
       "      <td>1</td>\n",
       "      <td>5</td>\n",
       "      <td>160</td>\n",
       "      <td>4</td>\n",
       "      <td>0</td>\n",
       "      <td>4500000</td>\n",
       "    </tr>\n",
       "    <tr>\n",
       "      <th>3</th>\n",
       "      <td>1</td>\n",
       "      <td>3</td>\n",
       "      <td>0</td>\n",
       "      <td>1</td>\n",
       "      <td>4</td>\n",
       "      <td>5</td>\n",
       "      <td>150</td>\n",
       "      <td>4</td>\n",
       "      <td>1</td>\n",
       "      <td>1650000</td>\n",
       "    </tr>\n",
       "    <tr>\n",
       "      <th>4</th>\n",
       "      <td>1</td>\n",
       "      <td>3</td>\n",
       "      <td>0</td>\n",
       "      <td>1</td>\n",
       "      <td>0</td>\n",
       "      <td>5</td>\n",
       "      <td>45</td>\n",
       "      <td>2</td>\n",
       "      <td>0</td>\n",
       "      <td>1150000</td>\n",
       "    </tr>\n",
       "  </tbody>\n",
       "</table>\n",
       "</div>"
      ],
      "text/plain": [
       "   Balkon_Sayisi  Binanin_Kat_Sayisi  Esya_Durumu  Banyo_Sayisi  Binanin_Yasi  \\\n",
       "0              0                   3            0             1             4   \n",
       "1              3                   3            0             2             0   \n",
       "2              3                   2            0             2             1   \n",
       "3              1                   3            0             1             4   \n",
       "4              1                   3            0             1             0   \n",
       "\n",
       "   Isitma_Tipi  Net_Metrekare  Oda_Sayisi  Site_Durumu    Fiyat  \n",
       "0            5             95           4            1  1950000  \n",
       "1            5            140           4            1  3100000  \n",
       "2            5            160           4            0  4500000  \n",
       "3            5            150           4            1  1650000  \n",
       "4            5             45           2            0  1150000  "
      ]
     },
     "execution_count": 2,
     "metadata": {},
     "output_type": "execute_result"
    }
   ],
   "source": [
    "import pandas\n",
    "df = pandas.read_excel(\"C:\\\\Users\\\\sakar\\\\ML_Projesi\\\\Algoritmalar\\\\MLProject_3.xlsx\")\n",
    "df.drop(\"Unnamed: 0\",axis = 1,inplace = True)\n",
    "df.head()"
   ]
  },
  {
   "cell_type": "code",
   "execution_count": 3,
   "id": "04225860",
   "metadata": {},
   "outputs": [
    {
     "name": "stdout",
     "output_type": "stream",
     "text": [
      "False\n",
      "False\n",
      "False\n",
      "False\n",
      "False\n",
      "False\n",
      "False\n",
      "False\n",
      "False\n",
      "False\n"
     ]
    }
   ],
   "source": [
    "print(df['Balkon_Sayisi'].isnull().values.any())\n",
    "print(df['Binanin_Kat_Sayisi'].isnull().values.any())\n",
    "print(df['Esya_Durumu'].isnull().values.any())\n",
    "print(df['Banyo_Sayisi'].isnull().values.any())\n",
    "print(df['Binanin_Yasi'].isnull().values.any())\n",
    "print(df['Isitma_Tipi'].isnull().values.any())\n",
    "print(df['Net_Metrekare'].isnull().values.any())\n",
    "print(df['Oda_Sayisi'].isnull().values.any())\n",
    "print(df['Site_Durumu'].isnull().values.any())\n",
    "print(df['Fiyat'].isnull().values.any())"
   ]
  },
  {
   "cell_type": "code",
   "execution_count": 4,
   "id": "aa76b33e",
   "metadata": {},
   "outputs": [],
   "source": [
    "import pandas\n",
    "import numpy\n",
    "from sklearn.model_selection import train_test_split,cross_val_score\n",
    "from sklearn.metrics import mean_squared_error, r2_score\n",
    "from sklearn.linear_model import LinearRegression\n",
    "from sklearn import model_selection"
   ]
  },
  {
   "cell_type": "code",
   "execution_count": 6,
   "id": "0b4129ce",
   "metadata": {},
   "outputs": [
    {
     "data": {
      "text/html": [
       "<div>\n",
       "<style scoped>\n",
       "    .dataframe tbody tr th:only-of-type {\n",
       "        vertical-align: middle;\n",
       "    }\n",
       "\n",
       "    .dataframe tbody tr th {\n",
       "        vertical-align: top;\n",
       "    }\n",
       "\n",
       "    .dataframe thead th {\n",
       "        text-align: right;\n",
       "    }\n",
       "</style>\n",
       "<table border=\"1\" class=\"dataframe\">\n",
       "  <thead>\n",
       "    <tr style=\"text-align: right;\">\n",
       "      <th></th>\n",
       "      <th>Balkon_Sayisi</th>\n",
       "      <th>Binanin_Kat_Sayisi</th>\n",
       "      <th>Esya_Durumu</th>\n",
       "      <th>Banyo_Sayisi</th>\n",
       "      <th>Binanin_Yasi</th>\n",
       "      <th>Isitma_Tipi</th>\n",
       "      <th>Net_Metrekare</th>\n",
       "      <th>Oda_Sayisi</th>\n",
       "      <th>Site_Durumu</th>\n",
       "      <th>Fiyat</th>\n",
       "    </tr>\n",
       "  </thead>\n",
       "  <tbody>\n",
       "    <tr>\n",
       "      <th>0</th>\n",
       "      <td>0</td>\n",
       "      <td>3</td>\n",
       "      <td>0</td>\n",
       "      <td>1</td>\n",
       "      <td>4</td>\n",
       "      <td>5</td>\n",
       "      <td>95</td>\n",
       "      <td>4</td>\n",
       "      <td>1</td>\n",
       "      <td>1950000</td>\n",
       "    </tr>\n",
       "    <tr>\n",
       "      <th>1</th>\n",
       "      <td>3</td>\n",
       "      <td>3</td>\n",
       "      <td>0</td>\n",
       "      <td>2</td>\n",
       "      <td>0</td>\n",
       "      <td>5</td>\n",
       "      <td>140</td>\n",
       "      <td>4</td>\n",
       "      <td>1</td>\n",
       "      <td>3100000</td>\n",
       "    </tr>\n",
       "    <tr>\n",
       "      <th>2</th>\n",
       "      <td>3</td>\n",
       "      <td>2</td>\n",
       "      <td>0</td>\n",
       "      <td>2</td>\n",
       "      <td>1</td>\n",
       "      <td>5</td>\n",
       "      <td>160</td>\n",
       "      <td>4</td>\n",
       "      <td>0</td>\n",
       "      <td>4500000</td>\n",
       "    </tr>\n",
       "    <tr>\n",
       "      <th>3</th>\n",
       "      <td>1</td>\n",
       "      <td>3</td>\n",
       "      <td>0</td>\n",
       "      <td>1</td>\n",
       "      <td>4</td>\n",
       "      <td>5</td>\n",
       "      <td>150</td>\n",
       "      <td>4</td>\n",
       "      <td>1</td>\n",
       "      <td>1650000</td>\n",
       "    </tr>\n",
       "    <tr>\n",
       "      <th>4</th>\n",
       "      <td>1</td>\n",
       "      <td>3</td>\n",
       "      <td>0</td>\n",
       "      <td>1</td>\n",
       "      <td>0</td>\n",
       "      <td>5</td>\n",
       "      <td>45</td>\n",
       "      <td>2</td>\n",
       "      <td>0</td>\n",
       "      <td>1150000</td>\n",
       "    </tr>\n",
       "    <tr>\n",
       "      <th>...</th>\n",
       "      <td>...</td>\n",
       "      <td>...</td>\n",
       "      <td>...</td>\n",
       "      <td>...</td>\n",
       "      <td>...</td>\n",
       "      <td>...</td>\n",
       "      <td>...</td>\n",
       "      <td>...</td>\n",
       "      <td>...</td>\n",
       "      <td>...</td>\n",
       "    </tr>\n",
       "    <tr>\n",
       "      <th>865</th>\n",
       "      <td>1</td>\n",
       "      <td>3</td>\n",
       "      <td>0</td>\n",
       "      <td>1</td>\n",
       "      <td>0</td>\n",
       "      <td>5</td>\n",
       "      <td>80</td>\n",
       "      <td>3</td>\n",
       "      <td>1</td>\n",
       "      <td>1600000</td>\n",
       "    </tr>\n",
       "    <tr>\n",
       "      <th>866</th>\n",
       "      <td>1</td>\n",
       "      <td>3</td>\n",
       "      <td>0</td>\n",
       "      <td>1</td>\n",
       "      <td>0</td>\n",
       "      <td>5</td>\n",
       "      <td>80</td>\n",
       "      <td>3</td>\n",
       "      <td>1</td>\n",
       "      <td>1600000</td>\n",
       "    </tr>\n",
       "    <tr>\n",
       "      <th>867</th>\n",
       "      <td>1</td>\n",
       "      <td>4</td>\n",
       "      <td>0</td>\n",
       "      <td>1</td>\n",
       "      <td>4</td>\n",
       "      <td>5</td>\n",
       "      <td>80</td>\n",
       "      <td>3</td>\n",
       "      <td>1</td>\n",
       "      <td>1500000</td>\n",
       "    </tr>\n",
       "    <tr>\n",
       "      <th>868</th>\n",
       "      <td>1</td>\n",
       "      <td>3</td>\n",
       "      <td>0</td>\n",
       "      <td>1</td>\n",
       "      <td>4</td>\n",
       "      <td>5</td>\n",
       "      <td>80</td>\n",
       "      <td>3</td>\n",
       "      <td>1</td>\n",
       "      <td>1450000</td>\n",
       "    </tr>\n",
       "    <tr>\n",
       "      <th>869</th>\n",
       "      <td>1</td>\n",
       "      <td>3</td>\n",
       "      <td>0</td>\n",
       "      <td>1</td>\n",
       "      <td>0</td>\n",
       "      <td>5</td>\n",
       "      <td>80</td>\n",
       "      <td>3</td>\n",
       "      <td>1</td>\n",
       "      <td>1800000</td>\n",
       "    </tr>\n",
       "  </tbody>\n",
       "</table>\n",
       "<p>870 rows × 10 columns</p>\n",
       "</div>"
      ],
      "text/plain": [
       "     Balkon_Sayisi  Binanin_Kat_Sayisi  Esya_Durumu  Banyo_Sayisi  \\\n",
       "0                0                   3            0             1   \n",
       "1                3                   3            0             2   \n",
       "2                3                   2            0             2   \n",
       "3                1                   3            0             1   \n",
       "4                1                   3            0             1   \n",
       "..             ...                 ...          ...           ...   \n",
       "865              1                   3            0             1   \n",
       "866              1                   3            0             1   \n",
       "867              1                   4            0             1   \n",
       "868              1                   3            0             1   \n",
       "869              1                   3            0             1   \n",
       "\n",
       "     Binanin_Yasi  Isitma_Tipi  Net_Metrekare  Oda_Sayisi  Site_Durumu  \\\n",
       "0               4            5             95           4            1   \n",
       "1               0            5            140           4            1   \n",
       "2               1            5            160           4            0   \n",
       "3               4            5            150           4            1   \n",
       "4               0            5             45           2            0   \n",
       "..            ...          ...            ...         ...          ...   \n",
       "865             0            5             80           3            1   \n",
       "866             0            5             80           3            1   \n",
       "867             4            5             80           3            1   \n",
       "868             4            5             80           3            1   \n",
       "869             0            5             80           3            1   \n",
       "\n",
       "       Fiyat  \n",
       "0    1950000  \n",
       "1    3100000  \n",
       "2    4500000  \n",
       "3    1650000  \n",
       "4    1150000  \n",
       "..       ...  \n",
       "865  1600000  \n",
       "866  1600000  \n",
       "867  1500000  \n",
       "868  1450000  \n",
       "869  1800000  \n",
       "\n",
       "[870 rows x 10 columns]"
      ]
     },
     "execution_count": 6,
     "metadata": {},
     "output_type": "execute_result"
    }
   ],
   "source": [
    "dataset = pandas.read_excel(\"C:\\\\Users\\\\sakar\\\\ML_Projesi\\\\Algoritmalar\\\\MLProject_3.xlsx\")\n",
    "dataset.drop(\"Unnamed: 0\",axis = 1,inplace = True)\n",
    "dataset"
   ]
  },
  {
   "cell_type": "code",
   "execution_count": 7,
   "id": "7ca3dec2",
   "metadata": {},
   "outputs": [],
   "source": [
    "X  = dataset.iloc[:, 0:9].values\n",
    "y  = dataset.iloc[:,9].values\n",
    "y = y.reshape(-1, 1)\n",
    "X_train, X_test, y_train, y_test = train_test_split(X, y, test_size = 0.2, random_state = 0)"
   ]
  },
  {
   "cell_type": "code",
   "execution_count": 8,
   "id": "9a350f7e",
   "metadata": {},
   "outputs": [
    {
     "name": "stdout",
     "output_type": "stream",
     "text": [
      "0.3975833367665511\n"
     ]
    }
   ],
   "source": [
    "#Decision Tree Regressor\n",
    "from sklearn.tree import DecisionTreeRegressor\n",
    "regressor = DecisionTreeRegressor(max_depth=3, random_state=0)\n",
    "regressor.fit(X_train, y_train)\n",
    "y_predDT = regressor.predict(X_test)\n",
    "DT_RSCORE = r2_score(y_test, y_predDT)\n",
    "print(DT_RSCORE)"
   ]
  },
  {
   "cell_type": "code",
   "execution_count": 9,
   "id": "58bfea96",
   "metadata": {},
   "outputs": [
    {
     "name": "stdout",
     "output_type": "stream",
     "text": [
      "-113.01643395474679\n"
     ]
    }
   ],
   "source": [
    "#Linear Regression \n",
    "from sklearn.linear_model import LinearRegression\n",
    "from sklearn.metrics import r2_score\n",
    "\n",
    "linear_regressor = LinearRegression()\n",
    "\n",
    "linear_regressor.fit(X_train, y_train)\n",
    "\n",
    "y_pred_linear = linear_regressor.predict(X_test)\n",
    "\n",
    "linear_r2 = r2_score(y_test, y_pred_linear)\n",
    "print(linear_r2)"
   ]
  },
  {
   "cell_type": "code",
   "execution_count": 10,
   "id": "8f306303",
   "metadata": {},
   "outputs": [
    {
     "name": "stdout",
     "output_type": "stream",
     "text": [
      "-9561.821386987724\n"
     ]
    }
   ],
   "source": [
    "#Random Forest Regressor\n",
    "from sklearn.ensemble import RandomForestRegressor\n",
    "from sklearn.metrics import r2_score\n",
    "\n",
    "rf_regressor = RandomForestRegressor(n_estimators = 100,random_state=0)\n",
    "\n",
    "rf_regressor.fit(X_train, y_train.ravel())\n",
    "\n",
    "y_pred_rf = rf_regressor.predict(X_test)\n",
    "\n",
    "rf_r2 = r2_score(y_test, y_pred_rf)\n",
    "print(rf_r2)"
   ]
  },
  {
   "cell_type": "code",
   "execution_count": 11,
   "id": "361a6bd9",
   "metadata": {},
   "outputs": [
    {
     "name": "stdout",
     "output_type": "stream",
     "text": [
      "-113.01642948812943\n"
     ]
    }
   ],
   "source": [
    "#Lasso Regression\n",
    "from sklearn.linear_model import Lasso\n",
    "\n",
    "lasso_regressor = Lasso(alpha=0.1)\n",
    "\n",
    "lasso_regressor.fit(X_train, y_train)\n",
    "\n",
    "y_pred_lasso = lasso_regressor.predict(X_test)\n",
    "\n",
    "lasso_r2 = r2_score(y_test, y_pred_lasso)\n",
    "print(lasso_r2)"
   ]
  },
  {
   "cell_type": "code",
   "execution_count": 12,
   "id": "2b688464",
   "metadata": {},
   "outputs": [
    {
     "name": "stdout",
     "output_type": "stream",
     "text": [
      "-2.436340773411529\n"
     ]
    }
   ],
   "source": [
    "#Support Vector Regressor\n",
    "from sklearn.svm import SVR\n",
    "from sklearn.preprocessing import StandardScaler\n",
    "\n",
    "scaler_X = StandardScaler()\n",
    "scaler_y = StandardScaler()\n",
    "\n",
    "X_train_scaled = scaler_X.fit_transform(X_train)\n",
    "y_train_scaled = scaler_y.fit_transform(y_train.reshape(-1, 1))\n",
    "\n",
    "X_test_scaled = scaler_X.transform(X_test)\n",
    "\n",
    "svr_regressor = SVR(kernel='linear')  # lineer kernel kullanılıyor, diğer kernel seçenekleri de mevcut\n",
    "\n",
    "svr_regressor.fit(X_train_scaled, y_train_scaled.ravel())\n",
    "\n",
    "y_pred_svr = svr_regressor.predict(X_test_scaled)\n",
    "\n",
    "svr_r2 = r2_score(y_test, y_pred_svr)\n",
    "print(svr_r2)"
   ]
  },
  {
   "cell_type": "code",
   "execution_count": 13,
   "id": "0158b778",
   "metadata": {},
   "outputs": [
    {
     "name": "stdout",
     "output_type": "stream",
     "text": [
      "0.5445817351307395\n"
     ]
    }
   ],
   "source": [
    "#K-Nearest Neighbors Regressor\n",
    "from sklearn.neighbors import KNeighborsRegressor\n",
    "\n",
    "knn_regressor = KNeighborsRegressor(n_neighbors=5)  \n",
    "\n",
    "knn_regressor.fit(X_train, y_train)\n",
    "\n",
    "y_pred_knn = knn_regressor.predict(X_test)\n",
    "\n",
    "knn_r2 = r2_score(y_test, y_pred_knn)\n",
    "print(knn_r2)"
   ]
  },
  {
   "cell_type": "code",
   "execution_count": 14,
   "id": "c291ad1a",
   "metadata": {},
   "outputs": [
    {
     "name": "stdout",
     "output_type": "stream",
     "text": [
      "-1969.258483388288\n"
     ]
    }
   ],
   "source": [
    "#Gradient Boosting Regressor\n",
    "from sklearn.ensemble import GradientBoostingRegressor\n",
    "\n",
    "gb_regressor = GradientBoostingRegressor(n_estimators=100, learning_rate=0.1, max_depth=3, random_state=0)\n",
    "\n",
    "gb_regressor.fit(X_train, y_train.ravel())\n",
    "\n",
    "y_pred_gb = gb_regressor.predict(X_test)\n",
    "\n",
    "gb_r2 = r2_score(y_test, y_pred_gb)\n",
    "print(gb_r2)"
   ]
  },
  {
   "cell_type": "code",
   "execution_count": 15,
   "id": "e6edb0fd",
   "metadata": {},
   "outputs": [
    {
     "name": "stdout",
     "output_type": "stream",
     "text": [
      "-90.86097538397163\n"
     ]
    }
   ],
   "source": [
    "# ElasticNet Regressor\n",
    "from sklearn.linear_model import ElasticNet\n",
    "\n",
    "elasticnet_regressor = ElasticNet(alpha=0.1, l1_ratio=0.5)  # alpha, düzenleme parametresidir, l1_ratio L1 düzenleme oranını belirler\n",
    "\n",
    "elasticnet_regressor.fit(X_train, y_train)\n",
    "\n",
    "y_pred_elasticnet = elasticnet_regressor.predict(X_test)\n",
    "\n",
    "elasticnet_r2 = r2_score(y_test, y_pred_elasticnet)\n",
    "print(elasticnet_r2)"
   ]
  },
  {
   "cell_type": "code",
   "execution_count": 16,
   "id": "db708684",
   "metadata": {},
   "outputs": [
    {
     "name": "stdout",
     "output_type": "stream",
     "text": [
      "-112.92821493437533\n"
     ]
    }
   ],
   "source": [
    "#Ridge Regression\n",
    "from sklearn.linear_model import Ridge\n",
    "from sklearn.metrics import r2_score\n",
    "\n",
    "ridge_regressor = Ridge(alpha=0.1)  # alpha, düzenleme parametresidir\n",
    "\n",
    "ridge_regressor.fit(X_train, y_train)\n",
    "\n",
    "y_pred_ridge = ridge_regressor.predict(X_test)\n",
    "\n",
    "ridge_r2 = r2_score(y_test, y_pred_ridge)\n",
    "print(ridge_r2)\n"
   ]
  },
  {
   "cell_type": "code",
   "execution_count": 17,
   "id": "b4f90c4b",
   "metadata": {},
   "outputs": [
    {
     "data": {
      "image/png": "[encoded data removed]",
      "text/plain": [
       "<Figure size 1000x600 with 1 Axes>"
      ]
     },
     "metadata": {},
     "output_type": "display_data"
    }
   ],
   "source": [
    "import matplotlib.pyplot as plt\n",
    "\n",
    "# Scatter plot oluştur\n",
    "plt.figure(figsize=(10, 6))\n",
    "plt.scatter(y_test, y_pred_knn, alpha=0.7, color='b', label='Gerçek vs Tahmin')\n",
    "plt.plot([min(y_test), max(y_test)], [min(y_test), max(y_test)], linestyle='--', color='r', label='Gerçek = Tahmin')\n",
    "\n",
    "# Grafik üzerine bilgi ekle\n",
    "plt.title('Gerçek vs Tahmin (K-Nearest Neighbors Regresyon)', fontsize=16)\n",
    "plt.xlabel('Gerçek Değerler', fontsize=14)\n",
    "plt.ylabel('Tahmin Edilen Değerler', fontsize=14)\n",
    "plt.legend()\n",
    "\n",
    "# Grafik göster\n",
    "plt.show()"
   ]
  },
  {
   "cell_type": "code",
   "execution_count": 18,
   "id": "9a592d56",
   "metadata": {},
   "outputs": [
    {
     "data": {
      "image/png": "[encoded data removed]",
      "text/plain": [
       "<Figure size 1000x600 with 1 Axes>"
      ]
     },
     "metadata": {},
     "output_type": "display_data"
    }
   ],
   "source": [
    "from sklearn.metrics import r2_score, mean_absolute_error, mean_squared_error\n",
    "import numpy as np\n",
    "import matplotlib.pyplot as plt\n",
    "\n",
    "# RMSE fonksiyonunu tanımla\n",
    "def rmse(y_true, y_pred):\n",
    "    return np.sqrt(mean_squared_error(y_true, y_pred))\n",
    "\n",
    "# RMSE değerini hesapla\n",
    "rmse_value = rmse(y_test, y_pred_knn)\n",
    "\n",
    "# R-kare, MAE, MSE ve RMSE değerlerini hesapla\n",
    "r2 = r2_score(y_test, y_pred_knn)\n",
    "mae = mean_absolute_error(y_test, y_pred_knn)\n",
    "mse = mean_squared_error(y_test, y_pred_knn)\n",
    "\n",
    "# Bar grafik oluştur\n",
    "metrics = {'R²': r2, 'MAE': mae, 'MSE': mse, 'RMSE': rmse_value}\n",
    "\n",
    "plt.figure(figsize=(10, 6))\n",
    "plt.bar(metrics.keys(), metrics.values(), color=['blue', 'green', 'red', 'purple'])\n",
    "plt.title('Model Performans Değerlendirmesi', fontsize=16)\n",
    "plt.ylabel('Değer', fontsize=14)\n",
    "plt.show()"
   ]
  },
  {
   "cell_type": "code",
   "execution_count": 19,
   "id": "f0c12fcb",
   "metadata": {},
   "outputs": [
    {
     "data": {
      "text/plain": [
       "['knn_model.pkl']"
      ]
     },
     "execution_count": 19,
     "metadata": {},
     "output_type": "execute_result"
    }
   ],
   "source": [
    "import joblib\n",
    "joblib.dump(knn_regressor, \"knn_model.pkl\")"
   ]
  },
  {
   "cell_type": "code",
   "execution_count": 20,
   "id": "4a7376f0",
   "metadata": {},
   "outputs": [
    {
     "data": {
      "text/plain": [
       "['decision_tree_model.pkl']"
      ]
     },
     "execution_count": 20,
     "metadata": {},
     "output_type": "execute_result"
    }
   ],
   "source": [
    "joblib.dump(regressor, \"decision_tree_model.pkl\")"
   ]
  },
  {
   "cell_type": "code",
   "execution_count": 21,
   "id": "985758de",
   "metadata": {},
   "outputs": [
    {
     "data": {
      "text/plain": [
       "['linear_model.pkl']"
      ]
     },
     "execution_count": 21,
     "metadata": {},
     "output_type": "execute_result"
    }
   ],
   "source": [
    "joblib.dump(linear_regressor, \"linear_model.pkl\")"
   ]
  },
  {
   "cell_type": "code",
   "execution_count": 22,
   "id": "7977d287",
   "metadata": {},
   "outputs": [
    {
     "data": {
      "text/plain": [
       "['lasso_model.pkl']"
      ]
     },
     "execution_count": 22,
     "metadata": {},
     "output_type": "execute_result"
    }
   ],
   "source": [
    "joblib.dump(lasso_regressor, \"lasso_model.pkl\")"
   ]
  },
  {
   "cell_type": "code",
   "execution_count": 23,
   "id": "702129f3",
   "metadata": {},
   "outputs": [
    {
     "data": {
      "text/plain": [
       "['rf_model.pkl']"
      ]
     },
     "execution_count": 23,
     "metadata": {},
     "output_type": "execute_result"
    }
   ],
   "source": [
    "joblib.dump(rf_regressor, \"rf_model.pkl\")"
   ]
  },
  {
   "cell_type": "code",
   "execution_count": 24,
   "id": "54a7aa7e",
   "metadata": {},
   "outputs": [
    {
     "data": {
      "text/plain": [
       "['gb_model.pkl']"
      ]
     },
     "execution_count": 24,
     "metadata": {},
     "output_type": "execute_result"
    }
   ],
   "source": [
    "joblib.dump(gb_regressor, \"gb_model.pkl\")"
   ]
  },
  {
   "cell_type": "code",
   "execution_count": 25,
   "id": "4cfb2ca6",
   "metadata": {},
   "outputs": [
    {
     "data": {
      "text/plain": [
       "['elasticnet_model.pkl']"
      ]
     },
     "execution_count": 25,
     "metadata": {},
     "output_type": "execute_result"
    }
   ],
   "source": [
    "joblib.dump(elasticnet_regressor, \"elasticnet_model.pkl\")"
   ]
  },
  {
   "cell_type": "code",
   "execution_count": 26,
   "id": "3f5a48ba",
   "metadata": {},
   "outputs": [
    {
     "data": {
      "text/plain": [
       "['ridge_model.pkl']"
      ]
     },
     "execution_count": 26,
     "metadata": {},
     "output_type": "execute_result"
    }
   ],
   "source": [
    "joblib.dump(ridge_regressor, \"ridge_model.pkl\")"
   ]
  },
  {
   "cell_type": "code",
   "execution_count": 1,
   "id": "82376a2e",
   "metadata": {},
   "outputs": [],
   "source": [
    "import pandas\n",
    "import numpy\n",
    "import joblib"
   ]
  },
  {
   "cell_type": "code",
   "execution_count": 2,
   "id": "b7ea69e0",
   "metadata": {},
   "outputs": [],
   "source": [
    "knn_model = joblib.load(\"C:\\\\Users\\\\sakar\\\\ML_Projesi\\\\Algoritmalar\\\\knn_model.pkl\")\n",
    "decision_tree_model = joblib.load(\"C:\\\\Users\\\\sakar\\\\ML_Projesi\\\\Algoritmalar\\\\decision_tree_model.pkl\")\n",
    "elasticnet_model = joblib.load(\"C:\\\\Users\\\\sakar\\\\ML_Projesi\\\\Algoritmalar\\\\elasticnet_model.pkl\")\n",
    "gb_model = joblib.load(\"C:\\\\Users\\\\sakar\\\\ML_Projesi\\\\Algoritmalar\\\\gb_model.pkl\")\n",
    "lasso_model = joblib.load(\"C:\\\\Users\\\\sakar\\\\ML_Projesi\\\\Algoritmalar\\\\lasso_model.pkl\")\n",
    "linear_model = joblib.load(\"C:\\\\Users\\\\sakar\\\\ML_Projesi\\\\Algoritmalar\\\\linear_model.pkl\")\n",
    "rf_model = joblib.load(\"C:\\\\Users\\\\sakar\\\\ML_Projesi\\\\Algoritmalar\\\\rf_model.pkl\") # 0.7688218633726958 (en iyi sonuç)\n",
    "ridge_model = joblib.load(\"C:\\\\Users\\\\sakar\\\\ML_Projesi\\\\Algoritmalar\\\\ridge_model.pkl\")"
   ]
  },
  {
   "cell_type": "code",
   "execution_count": 3,
   "id": "896cc9fd",
   "metadata": {
    "scrolled": true
   },
   "outputs": [],
   "source": [
    "binanin_yaslari = pandas.read_excel(\"C:\\\\Users\\\\sakar\\\\ML_Projesi\\\\VeriToplama\\\\bina_yasi.xlsx\")\n",
    "isitma_tipleri = pandas.read_excel(\"C:\\\\Users\\\\sakar\\\\ML_Projesi\\\\VeriToplama\\\\isitma_tipi.xlsx\")"
   ]
  },
  {
   "cell_type": "code",
   "execution_count": 4,
   "id": "77f08b6c",
   "metadata": {},
   "outputs": [
    {
     "data": {
      "text/html": [
       "<div>\n",
       "<style scoped>\n",
       "    .dataframe tbody tr th:only-of-type {\n",
       "        vertical-align: middle;\n",
       "    }\n",
       "\n",
       "    .dataframe tbody tr th {\n",
       "        vertical-align: top;\n",
       "    }\n",
       "\n",
       "    .dataframe thead th {\n",
       "        text-align: right;\n",
       "    }\n",
       "</style>\n",
       "<table border=\"1\" class=\"dataframe\">\n",
       "  <thead>\n",
       "    <tr style=\"text-align: right;\">\n",
       "      <th></th>\n",
       "      <th>Binanin_Yasi</th>\n",
       "    </tr>\n",
       "  </thead>\n",
       "  <tbody>\n",
       "    <tr>\n",
       "      <th>0</th>\n",
       "      <td>0-5</td>\n",
       "    </tr>\n",
       "    <tr>\n",
       "      <th>1</th>\n",
       "      <td>11-15</td>\n",
       "    </tr>\n",
       "    <tr>\n",
       "      <th>2</th>\n",
       "      <td>16-20</td>\n",
       "    </tr>\n",
       "    <tr>\n",
       "      <th>3</th>\n",
       "      <td>21 Ve Üzeri</td>\n",
       "    </tr>\n",
       "    <tr>\n",
       "      <th>4</th>\n",
       "      <td>5-10</td>\n",
       "    </tr>\n",
       "  </tbody>\n",
       "</table>\n",
       "</div>"
      ],
      "text/plain": [
       "  Binanin_Yasi\n",
       "0          0-5\n",
       "1        11-15\n",
       "2        16-20\n",
       "3  21 Ve Üzeri\n",
       "4         5-10"
      ]
     },
     "execution_count": 4,
     "metadata": {},
     "output_type": "execute_result"
    }
   ],
   "source": [
    "binanin_yaslari"
   ]
  },
  {
   "cell_type": "code",
   "execution_count": 5,
   "id": "a6647412",
   "metadata": {},
   "outputs": [
    {
     "data": {
      "text/html": [
       "<div>\n",
       "<style scoped>\n",
       "    .dataframe tbody tr th:only-of-type {\n",
       "        vertical-align: middle;\n",
       "    }\n",
       "\n",
       "    .dataframe tbody tr th {\n",
       "        vertical-align: top;\n",
       "    }\n",
       "\n",
       "    .dataframe thead th {\n",
       "        text-align: right;\n",
       "    }\n",
       "</style>\n",
       "<table border=\"1\" class=\"dataframe\">\n",
       "  <thead>\n",
       "    <tr style=\"text-align: right;\">\n",
       "      <th></th>\n",
       "      <th>Isitma_Tipi</th>\n",
       "    </tr>\n",
       "  </thead>\n",
       "  <tbody>\n",
       "    <tr>\n",
       "      <th>0</th>\n",
       "      <td>Doğalgaz Sobalı</td>\n",
       "    </tr>\n",
       "    <tr>\n",
       "      <th>1</th>\n",
       "      <td>Elektrikli Radyatör</td>\n",
       "    </tr>\n",
       "    <tr>\n",
       "      <th>2</th>\n",
       "      <td>Isıtma Yok</td>\n",
       "    </tr>\n",
       "    <tr>\n",
       "      <th>3</th>\n",
       "      <td>Kat Kaloriferi</td>\n",
       "    </tr>\n",
       "    <tr>\n",
       "      <th>4</th>\n",
       "      <td>Klimalı</td>\n",
       "    </tr>\n",
       "    <tr>\n",
       "      <th>5</th>\n",
       "      <td>Kombi Doğalgaz</td>\n",
       "    </tr>\n",
       "    <tr>\n",
       "      <th>6</th>\n",
       "      <td>Merkezi (Pay Ölçer)</td>\n",
       "    </tr>\n",
       "    <tr>\n",
       "      <th>7</th>\n",
       "      <td>Merkezi Doğalgaz</td>\n",
       "    </tr>\n",
       "    <tr>\n",
       "      <th>8</th>\n",
       "      <td>Sobalı</td>\n",
       "    </tr>\n",
       "    <tr>\n",
       "      <th>9</th>\n",
       "      <td>Yerden Isıtma</td>\n",
       "    </tr>\n",
       "    <tr>\n",
       "      <th>10</th>\n",
       "      <td>Şömine</td>\n",
       "    </tr>\n",
       "  </tbody>\n",
       "</table>\n",
       "</div>"
      ],
      "text/plain": [
       "            Isitma_Tipi\n",
       "0       Doğalgaz Sobalı\n",
       "1   Elektrikli Radyatör\n",
       "2            Isıtma Yok\n",
       "3        Kat Kaloriferi\n",
       "4               Klimalı\n",
       "5        Kombi Doğalgaz\n",
       "6   Merkezi (Pay Ölçer)\n",
       "7      Merkezi Doğalgaz\n",
       "8                Sobalı\n",
       "9         Yerden Isıtma\n",
       "10               Şömine"
      ]
     },
     "execution_count": 5,
     "metadata": {},
     "output_type": "execute_result"
    }
   ],
   "source": [
    "isitma_tipleri"
   ]
  },
  {
   "cell_type": "code",
   "execution_count": 6,
   "id": "73f8873a",
   "metadata": {},
   "outputs": [],
   "source": [
    "def binanin_yasi_index(binanin_yasi):\n",
    "    index = int(binanin_yaslari[binanin_yaslari[\"Binanin_Yasi\"]==binanin_yasi].index.values)\n",
    "    return index\n",
    "def isitma_tipi_index(isitma_tipi):\n",
    "    index = int(isitma_tipleri[isitma_tipleri[\"Isitma_Tipi\"]==isitma_tipi].index.values)\n",
    "    return index"
   ]
  },
  {
   "cell_type": "code",
   "execution_count": 7,
   "id": "8b37acbf",
   "metadata": {},
   "outputs": [],
   "source": [
    "def create_prediction_value(balkon_sayisi,binanin_kat_sayisi,esya_durumu,banyo_sayisi,binanin_yasi,isitma_tipi,net_metrekare,oda_sayisi,site_durumu):\n",
    "    res = pandas.DataFrame(data = \n",
    "            {'Balkon_Sayisi':[balkon_sayisi],'Binanin_Kat_Sayisi':[binanin_kat_sayisi],'Esya_Durumu':[esya_durumu],\n",
    "             'Banyo_Sayisi':[banyo_sayisi],'Binanin_Yasi':[binanin_yasi],\n",
    "              'Isitma_Tipi':[isitma_tipi],'Net_Metrekare':[net_metrekare],'Oda_Sayisi':[oda_sayisi],\n",
    "             'Site_Durumu':[site_durumu]})\n",
    "    return res"
   ]
  },
  {
   "cell_type": "code",
   "execution_count": 8,
   "id": "45cc54cf",
   "metadata": {},
   "outputs": [],
   "source": [
    "def esya_durumu(esya_durumu):\n",
    "    if esya_durumu == \"Eşyalı\":\n",
    "        return 1\n",
    "    else:\n",
    "        return 0\n",
    "def site_durumu(site_durumu):\n",
    "    if site_durumu == \"Hayır\":\n",
    "        return 1\n",
    "    else:\n",
    "        return 0"
   ]
  },
  {
   "cell_type": "code",
   "execution_count": 9,
   "id": "95568d0e",
   "metadata": {},
   "outputs": [],
   "source": [
    "def predict_models(res):\n",
    "    print(\"K-Nearest Neighbors Result : \"+ str(int(knn_model.predict(res))).strip('[]') +\" TL\" )\n",
    "    print(\"Decision Tree Result : \"+ str(int(decision_tree_model.predict(res))).strip('[]') +\" TL\" )\n",
    "    print(\"ElasticNet Result : \"+ str(int(elasticnet_model.predict(res))).strip('[]') +\" TL\" )\n",
    "    print(\"Gradient Boosting Result : \"+ str(int(gb_model.predict(res))).strip('[]') +\" TL\" )\n",
    "    print(\"Lasso Result : \"+ str(int(lasso_model.predict(res))).strip('[]') +\" TL\" )\n",
    "    print(\"Linear Result : \"+ str(int(linear_model.predict(res))).strip('[]') +\" TL\" )\n",
    "    print(\"Random Forest Result : \"+ str(int(rf_model.predict(res))).strip('[]') +\" TL\" )\n",
    "    print(\"Ridge Result : \"+ str(int(ridge_model.predict(res))).strip('[]') +\" TL\" )"
   ]
  },
  {
   "cell_type": "code",
   "execution_count": 11,
   "id": "3b1ec0de",
   "metadata": {},
   "outputs": [
    {
     "name": "stdout",
     "output_type": "stream",
     "text": [
      "K-Nearest Neighbors Result : 3109800 TL\n",
      "Decision Tree Result : 2065248 TL\n",
      "ElasticNet Result : 26065087 TL\n",
      "Gradient Boosting Result : 2782699 TL\n",
      "Lasso Result : 27499264 TL\n",
      "Linear Result : 27499264 TL\n",
      "Random Forest Result : 2976400 TL\n",
      "Ridge Result : 27494223 TL\n"
     ]
    },
    {
     "name": "stderr",
     "output_type": "stream",
     "text": [
      "C:\\Users\\sakar\\anaconda3\\Lib\\site-packages\\sklearn\\base.py:457: UserWarning: X has feature names, but KNeighborsRegressor was fitted without feature names\n",
      "  warnings.warn(\n",
      "C:\\Users\\sakar\\anaconda3\\Lib\\site-packages\\sklearn\\base.py:457: UserWarning: X has feature names, but DecisionTreeRegressor was fitted without feature names\n",
      "  warnings.warn(\n",
      "C:\\Users\\sakar\\anaconda3\\Lib\\site-packages\\sklearn\\base.py:457: UserWarning: X has feature names, but ElasticNet was fitted without feature names\n",
      "  warnings.warn(\n",
      "C:\\Users\\sakar\\anaconda3\\Lib\\site-packages\\sklearn\\base.py:457: UserWarning: X has feature names, but GradientBoostingRegressor was fitted without feature names\n",
      "  warnings.warn(\n",
      "C:\\Users\\sakar\\anaconda3\\Lib\\site-packages\\sklearn\\base.py:457: UserWarning: X has feature names, but Lasso was fitted without feature names\n",
      "  warnings.warn(\n",
      "C:\\Users\\sakar\\anaconda3\\Lib\\site-packages\\sklearn\\base.py:457: UserWarning: X has feature names, but LinearRegression was fitted without feature names\n",
      "  warnings.warn(\n",
      "C:\\Users\\sakar\\anaconda3\\Lib\\site-packages\\sklearn\\base.py:457: UserWarning: X has feature names, but RandomForestRegressor was fitted without feature names\n",
      "  warnings.warn(\n",
      "C:\\Users\\sakar\\anaconda3\\Lib\\site-packages\\sklearn\\base.py:457: UserWarning: X has feature names, but Ridge was fitted without feature names\n",
      "  warnings.warn(\n"
     ]
    }
   ],
   "source": [
    "predict_value = create_prediction_value(3, 3, esya_durumu(\"Boş\"), 2, binanin_yasi_index(\"0-5\"), isitma_tipi_index(\"Kombi Doğalgaz\"), 140.0, 4, site_durumu(\"Hayır\"))\n",
    "predict_models(predict_value)"
   ]
  },
  {
   "cell_type": "code",
   "execution_count": null,
   "id": "2b4c4cba",
   "metadata": {},
   "outputs": [],
   "source": []
  }
 ],
 "metadata": {
  "kernelspec": {
   "display_name": "Python 3 (ipykernel)",
   "language": "python",
   "name": "python3"
  },
  "language_info": {
   "codemirror_mode": {
    "name": "ipython",
    "version": 3
   },
   "file_extension": ".py",
   "mimetype": "text/x-python",
   "name": "python",
   "nbconvert_exporter": "python",
   "pygments_lexer": "ipython3",
   "version": "3.11.5"
  }
 },
 "nbformat": 4,
 "nbformat_minor": 5
}
